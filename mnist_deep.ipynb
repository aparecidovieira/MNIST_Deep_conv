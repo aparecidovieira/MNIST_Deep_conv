{
 "cells": [
  {
   "cell_type": "code",
   "execution_count": 2,
   "metadata": {},
   "outputs": [],
   "source": [
    "import tensorflow as tf\n",
    "import numpy as np\n",
    "import pandas as pd\n",
    "import matplotlib.pyplot as plt\n",
    "\n",
    "%matplotlib inline"
   ]
  },
  {
   "cell_type": "code",
   "execution_count": 3,
   "metadata": {
    "collapsed": true
   },
   "outputs": [],
   "source": [
    "from tensorflow.examples.tutorials.mnist import input_data\n"
   ]
  },
  {
   "cell_type": "code",
   "execution_count": 4,
   "metadata": {},
   "outputs": [
    {
     "name": "stdout",
     "output_type": "stream",
     "text": [
      "Successfully downloaded train-images-idx3-ubyte.gz 9912422 bytes.\n",
      "Extracting MNIST_data/train-images-idx3-ubyte.gz\n",
      "Successfully downloaded train-labels-idx1-ubyte.gz 28881 bytes.\n",
      "Extracting MNIST_data/train-labels-idx1-ubyte.gz\n",
      "Successfully downloaded t10k-images-idx3-ubyte.gz 1648877 bytes.\n",
      "Extracting MNIST_data/t10k-images-idx3-ubyte.gz\n",
      "Successfully downloaded t10k-labels-idx1-ubyte.gz 4542 bytes.\n",
      "Extracting MNIST_data/t10k-labels-idx1-ubyte.gz\n"
     ]
    }
   ],
   "source": [
    "mnist = input_data.read_data_sets('MNIST_data/', one_hot=True)\n"
   ]
  },
  {
   "cell_type": "code",
   "execution_count": 5,
   "metadata": {},
   "outputs": [
    {
     "name": "stdout",
     "output_type": "stream",
     "text": [
      "(55000, 784)\n",
      "(10000, 10)\n"
     ]
    }
   ],
   "source": [
    "print (mnist.train.images.shape)\n",
    "print (mnist.test.labels.shape)"
   ]
  },
  {
   "cell_type": "code",
   "execution_count": 10,
   "metadata": {
    "collapsed": true
   },
   "outputs": [],
   "source": [
    "from sklearn.model_selection import train_test_split"
   ]
  },
  {
   "cell_type": "code",
   "execution_count": 13,
   "metadata": {},
   "outputs": [
    {
     "data": {
      "text/plain": [
       "((55000, 28, 28, 1), (55000, 10))"
      ]
     },
     "execution_count": 13,
     "metadata": {},
     "output_type": "execute_result"
    }
   ],
   "source": [
    "X = mnist.train.images\n",
    "X = np.reshape(X, (-1, 28, 28, 1))\n",
    "Y = mnist.train.labels\n",
    "X.shape, Y.shape"
   ]
  },
  {
   "cell_type": "code",
   "execution_count": 14,
   "metadata": {},
   "outputs": [],
   "source": [
    "\n",
    "X_tr, X_val, Y_tr, Y_val = train_test_split(X, Y, test_size=0.15, random_state=0)"
   ]
  },
  {
   "cell_type": "code",
   "execution_count": 19,
   "metadata": {
    "collapsed": true
   },
   "outputs": [],
   "source": [
    "def weight_var(shape):\n",
    "    w = tf.truncated_normal(shape=shape, stddev=0.1)\n",
    "    return tf.Variable(w)\n",
    "def bias_var(shape):\n",
    "    b = tf.constant(0.1, shape=shape)\n",
    "    return tf.Variable(b)\n",
    "\n",
    "\n",
    "def CNN(x, n_classes):\n",
    "    \n",
    "    strides = [1, 1, 1, 1]\n",
    "    strides2 = [1, 2, 2, 1]\n",
    "    ksize = strides2\n",
    "    w1 = weight_var(shape=[5, 5, 1, 32])\n",
    "    b1 = bias_var(shape=[32])\n",
    "    layer1 = tf.nn.conv2d(x, w1, strides=strides, padding='VALID')\n",
    "    layer1 = tf.nn.bias_add(layer1, b1)\n",
    "    layer1 = tf.nn.relu(layer1)\n",
    "    \n",
    "    #layer1 = tf.nn.max_pool(layer1, ksize=ksize, strides=strides2, padding'VALID')\n",
    "    \n",
    "\n",
    "    w2 = weight_var(shape=[5, 5, 32, 64])\n",
    "    b2 = bias_var(shape=[64])\n",
    "    layer2 = tf.nn.conv2d(layer1, w2, strides=strides, padding='VALID')\n",
    "    layer2 = tf.nn.bias_add(layer2, b2)\n",
    "    layer2 = tf.nn.relu(layer2)\n",
    "    \n",
    "    layer2 = tf.nn.max_pool(layer2, ksize=ksize, strides=strides2, padding='VALID')\n",
    "    \n",
    "\n",
    "    w3 = weight_var(shape=[5, 5, 64, 64])\n",
    "    b3 = bias_var(shape=[64])\n",
    "    layer3 = tf.nn.conv2d(layer2, w3, strides=strides, padding='VALID')\n",
    "    layer3 = tf.nn.bias_add(layer3, b3)\n",
    "    layer3 = tf.nn.relu(layer3)\n",
    "    \n",
    "    layer3 = tf.nn.max_pool(layer3, ksize=ksize, strides=strides2, padding='SAME')\n",
    "    \n",
    "    \n",
    "    flatten = tf.contrib.layers.flatten(layer3)\n",
    "    dim = flatten.get_shape().as_list()\n",
    "    \n",
    "    wc1 = weight_var(shape=[dim[1], 256])\n",
    "    bc1 = bias_var([256])\n",
    "    fc1 = tf.matmul(flatten, wc1)\n",
    "    fc1 = tf.nn.bias_add(fc1, bc1)\n",
    "    fc1 = tf.nn.relu(fc1)\n",
    "    fc1 = tf.nn.dropout(fc1, keep_prob=keep_prob)\n",
    "    \n",
    "    wc2 = weight_var(shape=[256, n_classes])\n",
    "    bc2 = bias_var([n_classes])\n",
    "    fc2 = tf.matmul(fc1, wc2)\n",
    "    logits = tf.add(fc2, bc2)\n",
    "    return logits\n",
    "    \n",
    "    \n",
    "    "
   ]
  },
  {
   "cell_type": "code",
   "execution_count": 20,
   "metadata": {
    "collapsed": true
   },
   "outputs": [],
   "source": [
    "def stats(X_batch, Y_batch):\n",
    "    total_loss = 0\n",
    "    total_acc = 0\n",
    "    samples = len(X_batch)\n",
    "    #X_batch = np.reshape(X_batch, [-1, n_steps, n_inputs])\n",
    "    sess = tf.get_default_session()\n",
    "    for offset in range(0, samples, batch_size):\n",
    "        end = offset+batch_size\n",
    "        xs_batch, ys_batch = X_batch[offset:end], Y_batch[offset:end]\n",
    "        loss_, acc = sess.run([loss, accuracy], feed_dict={x:xs_batch, \n",
    "                                                           y:ys_batch,\n",
    "                                                           keep_prob:1.0\n",
    "                                                           })\n",
    "        total_loss += (float(loss_)*xs_batch.shape[0])\n",
    "        total_acc += (float(acc)*xs_batch.shape[0])\n",
    "\n",
    "    return (total_loss)/samples, (total_acc)/samples"
   ]
  },
  {
   "cell_type": "code",
   "execution_count": 21,
   "metadata": {
    "collapsed": true
   },
   "outputs": [],
   "source": [
    "tf.reset_default_graph()"
   ]
  },
  {
   "cell_type": "code",
   "execution_count": 22,
   "metadata": {},
   "outputs": [
    {
     "data": {
      "text/plain": [
       "(<tf.Tensor 'Placeholder_1:0' shape=(?, 10) dtype=float32>,\n",
       " <tf.Tensor 'Placeholder:0' shape=(?, 28, 28, 1) dtype=float32>)"
      ]
     },
     "execution_count": 22,
     "metadata": {},
     "output_type": "execute_result"
    }
   ],
   "source": [
    "learning_rate = 1e-3\n",
    "n_classes = Y_tr.shape[1]\n",
    "x = tf.placeholder(dtype=tf.float32, shape=(None, 28, 28, 1))\n",
    "y = tf.placeholder(tf.float32, shape=(None, n_classes))\n",
    "keep_prob = tf.placeholder(dtype=tf.float32)\n",
    "#y_hot = tf.one_hot(y, 29)\n",
    "y, x"
   ]
  },
  {
   "cell_type": "code",
   "execution_count": 23,
   "metadata": {},
   "outputs": [
    {
     "data": {
      "text/plain": [
       "<tf.Tensor 'Add:0' shape=(?, 10) dtype=float32>"
      ]
     },
     "execution_count": 23,
     "metadata": {},
     "output_type": "execute_result"
    }
   ],
   "source": [
    "logits = CNN(x, n_classes)\n",
    "softmax = tf.nn.softmax(logits)\n",
    "logits"
   ]
  },
  {
   "cell_type": "code",
   "execution_count": null,
   "metadata": {
    "collapsed": true
   },
   "outputs": [],
   "source": []
  },
  {
   "cell_type": "code",
   "execution_count": 24,
   "metadata": {
    "collapsed": true
   },
   "outputs": [],
   "source": [
    "\n",
    "step = tf.Variable(0, trainable=False)\n",
    "loss = tf.reduce_mean(tf.nn.softmax_cross_entropy_with_logits(logits=logits, labels=y))\n",
    "optimizer = tf.train.AdamOptimizer(learning_rate, beta1=0.9, beta2=0.99).minimize(loss, global_step=step)\n",
    "\n",
    "prediction = tf.equal(tf.argmax(y, 1), tf.argmax(softmax, 1))\n",
    "accuracy = tf.reduce_mean(tf.cast(prediction, dtype=tf.float32))"
   ]
  },
  {
   "cell_type": "code",
   "execution_count": 25,
   "metadata": {},
   "outputs": [
    {
     "name": "stdout",
     "output_type": "stream",
     "text": [
      "(46750, 28, 28, 1) (46750, 10)\n"
     ]
    }
   ],
   "source": [
    "print(X_tr.shape, Y_tr.shape)"
   ]
  },
  {
   "cell_type": "code",
   "execution_count": 26,
   "metadata": {},
   "outputs": [
    {
     "name": "stdout",
     "output_type": "stream",
     "text": [
      "Initializing Training\n",
      "EPOCH 1\n",
      "Validation Loss = 0.239 and Validation Accuracy = 93.018 %\n",
      "EPOCH 2\n",
      "Validation Loss = 0.138 and Validation Accuracy = 95.891 %\n",
      "EPOCH 3\n",
      "Validation Loss = 0.096 and Validation Accuracy = 96.982 %\n",
      "EPOCH 4\n",
      "Validation Loss = 0.079 and Validation Accuracy = 97.552 %\n",
      "EPOCH 5\n",
      "Validation Loss = 0.065 and Validation Accuracy = 97.842 %\n",
      "EPOCH 6\n",
      "Validation Loss = 0.058 and Validation Accuracy = 98.194 %\n",
      "EPOCH 7\n",
      "Validation Loss = 0.054 and Validation Accuracy = 98.194 %\n",
      "EPOCH 8\n",
      "Validation Loss = 0.050 and Validation Accuracy = 98.388 %\n",
      "EPOCH 9\n",
      "Validation Loss = 0.050 and Validation Accuracy = 98.339 %\n",
      "EPOCH 10\n",
      "Validation Loss = 0.045 and Validation Accuracy = 98.630 %\n",
      "EPOCH 11\n",
      "Validation Loss = 0.042 and Validation Accuracy = 98.739 %\n",
      "EPOCH 12\n",
      "Validation Loss = 0.044 and Validation Accuracy = 98.594 %\n",
      "EPOCH 13\n",
      "Validation Loss = 0.041 and Validation Accuracy = 98.691 %\n",
      "EPOCH 14\n",
      "Validation Loss = 0.039 and Validation Accuracy = 98.812 %\n",
      "EPOCH 15\n",
      "Validation Loss = 0.038 and Validation Accuracy = 98.861 %\n",
      "EPOCH 16\n",
      "Validation Loss = 0.038 and Validation Accuracy = 98.776 %\n",
      "EPOCH 17\n",
      "Validation Loss = 0.036 and Validation Accuracy = 98.897 %\n",
      "EPOCH 18\n",
      "Validation Loss = 0.038 and Validation Accuracy = 98.824 %\n",
      "EPOCH 19\n",
      "Validation Loss = 0.036 and Validation Accuracy = 98.921 %\n",
      "EPOCH 20\n",
      "Validation Loss = 0.035 and Validation Accuracy = 99.055 %\n",
      "EPOCH 21\n",
      "Validation Loss = 0.034 and Validation Accuracy = 99.006 %\n",
      "EPOCH 22\n",
      "Validation Loss = 0.037 and Validation Accuracy = 98.970 %\n",
      "EPOCH 23\n",
      "Validation Loss = 0.036 and Validation Accuracy = 98.861 %\n",
      "EPOCH 24\n",
      "Validation Loss = 0.035 and Validation Accuracy = 98.909 %\n",
      "EPOCH 25\n",
      "Validation Loss = 0.033 and Validation Accuracy = 98.994 %\n",
      "EPOCH 26\n",
      "Validation Loss = 0.037 and Validation Accuracy = 98.994 %\n",
      "EPOCH 27\n",
      "Validation Loss = 0.036 and Validation Accuracy = 99.079 %\n",
      "EPOCH 28\n",
      "Validation Loss = 0.035 and Validation Accuracy = 99.030 %\n",
      "EPOCH 29\n",
      "Validation Loss = 0.033 and Validation Accuracy = 99.139 %\n",
      "EPOCH 30\n",
      "Validation Loss = 0.035 and Validation Accuracy = 98.982 %\n",
      "Test Loss 4.5546981709776446e-05 and Test Accuracy 100.000 %\n"
     ]
    },
    {
     "data": {
      "image/png": "[encoded data removed]",
      "text/plain": [
       "<matplotlib.figure.Figure at 0x12aa130f0>"
      ]
     },
     "metadata": {},
     "output_type": "display_data"
    }
   ],
   "source": [
    "acc_map = []\n",
    "\n",
    "from sklearn.utils import shuffle\n",
    "batch_size = 128\n",
    "epochs = 30\n",
    "samples = len(X_tr)\n",
    "\n",
    "count = 0\n",
    "print(\"Initializing Training\")\n",
    "try:\n",
    "    with tf.Session() as sess:\n",
    "        init = tf.global_variables_initializer()\n",
    "        sess.run(init)\n",
    "        for epoch in range(epochs):\n",
    "            X_tr, Y_tr = shuffle(X_tr, Y_tr)\n",
    "            for offset in range(0, samples, batch_size):\n",
    "                end = offset+batch_size\n",
    "                xs_batch, ys_batch = X_tr[offset:end], Y_tr[offset:end]\n",
    "                loss_, _ = sess.run([loss, optimizer], feed_dict={x: xs_batch, \n",
    "                                                                  y: ys_batch,\n",
    "                                                                 keep_prob:0.5})    \n",
    "\n",
    "            validation_loss, validation_acc = stats(X_val, Y_val)\n",
    "            acc_map.append(round(validation_acc*100, 2))\n",
    "            print(\"EPOCH {}\".format(epoch + 1))\n",
    "            print (\"Validation Loss = {:.3f} and Validation Accuracy = {:.3f} %\".format(validation_loss, 100 *validation_acc))\n",
    "        plt.figure(figsize=(12, 5))\n",
    "        plt.xticks(range(1, epochs+1))\n",
    "        plt.xlabel('epoch')\n",
    "        plt.ylabel('accuracy')\n",
    "        plt.grid(True)\n",
    "        plt.plot(range(1, epochs+1), acc_map, '-o')\n",
    "        for i, j in list(zip(range(1, epochs+1), acc_map))[0::3]:\n",
    "            plt.text(i, j-1, str(j))\n",
    "        test_loss, test_acc = sess.run([loss, accuracy], feed_dict={x: xs_batch, \n",
    "                                                                    y: ys_batch,\n",
    "                                                                    keep_prob:1.00})  \n",
    "        print (\"Test Loss {} and Test Accuracy {:.3f} %\".format(test_loss, 100 *test_acc))\n",
    "except KeyboardInterrupt:\n",
    "    print('Training interrupted')\n",
    "    test_loss, test_acc = sess.run([loss, accuracy], feed_dict={x: xs_batch, \n",
    "                                                                    y: ys_batch})  \n",
    "    print (\"Test Loss {} and Test Accuracy {:.3f} %\".format(test_loss, 100 *test_acc))"
   ]
  },
  {
   "cell_type": "code",
   "execution_count": null,
   "metadata": {
    "collapsed": true
   },
   "outputs": [],
   "source": []
  },
  {
   "cell_type": "code",
   "execution_count": null,
   "metadata": {
    "collapsed": true
   },
   "outputs": [],
   "source": []
  }
 ],
 "metadata": {
  "kernelspec": {
   "display_name": "Python 3",
   "language": "python",
   "name": "python3"
  },
  "language_info": {
   "codemirror_mode": {
    "name": "ipython",
    "version": 3
   },
   "file_extension": ".py",
   "mimetype": "text/x-python",
   "name": "python",
   "nbconvert_exporter": "python",
   "pygments_lexer": "ipython3",
   "version": "3.6.3"
  }
 },
 "nbformat": 4,
 "nbformat_minor": 2
}
